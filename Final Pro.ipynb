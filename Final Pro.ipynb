{
 "cells": [
  {
   "cell_type": "code",
   "execution_count": 1,
   "id": "a9777d5b-642e-4f27-91af-846e9f0e259d",
   "metadata": {},
   "outputs": [
    {
     "name": "stdout",
     "output_type": "stream",
     "text": [
      "Overwriting truthshield_app.py\n"
     ]
    }
   ],
   "source": [
    "%%writefile truthshield_app.py\n",
    "import streamlit as st\n",
    "import pandas as pd\n",
    "import difflib\n",
    "from sklearn.feature_extraction.text import TfidfVectorizer\n",
    "from sklearn.linear_model import LogisticRegressionCV\n",
    "from sklearn.model_selection import train_test_split\n",
    "\n",
    "# Load and clean the data\n",
    "df = pd.read_csv('NewTask.csv', encoding='ISO-8859-1')\n",
    "df = df[['News_Headline', 'Label', 'Link_Of_News']].dropna()\n",
    "df.columns = ['Statement', 'Label', 'Link']\n",
    "df['Label'] = df['Label'].astype(str).str.upper()\n",
    "df = df[df['Label'].isin(['TRUE', 'FALSE'])]\n",
    "df['Label'] = df['Label'].apply(lambda x: 1 if x == 'TRUE' else 0)\n",
    "\n",
    "# Source credibility scores\n",
    "link_stats = df.groupby('Link')['Label'].agg(['count', 'mean']).rename(columns={'mean': 'truth_ratio'})\n",
    "link_credibility = link_stats.to_dict(orient='index')\n",
    "\n",
    "# Model training\n",
    "X_train, X_val, y_train, y_val = train_test_split(df['Statement'], df['Label'], test_size=0.2, stratify=df['Label'], random_state=42)\n",
    "vectorizer = TfidfVectorizer(stop_words='english', max_features=5000)\n",
    "X_train_vec = vectorizer.fit_transform(X_train)\n",
    "model = LogisticRegressionCV(cv=5, max_iter=1000)\n",
    "model.fit(X_train_vec, y_train)\n",
    "\n",
    "# Streamlit interface\n",
    "st.title(\"🛡️ TruthShield: AI-Powered Fake News & Misinformation Detector\")\n",
    "\n",
    "input_statement = st.text_area(\"Enter a news statement to verify:\")\n",
    "\n",
    "if st.button(\"Check\"):\n",
    "    if not input_statement.strip():\n",
    "        st.warning(\"Please enter a statement.\")\n",
    "    else:\n",
    "        # ML prediction\n",
    "        x_new = vectorizer.transform([input_statement])\n",
    "        pred = model.predict(x_new)[0]\n",
    "        conf = model.predict_proba(x_new)[0][pred]\n",
    "        verdict = \"✅ TRUE NEWS\" if pred == 1 else \"❌ FAKE NEWS\"\n",
    "        reason = (\n",
    "            \"This statement is similar to reliable, verified information sources.\"\n",
    "            if pred == 1 else\n",
    "            \"This statement shows patterns often seen in fake or misleading news articles.\"\n",
    "        )\n",
    "\n",
    "        # Fuzzy match the input to the closest known statement\n",
    "        statements = df['Statement'].tolist()\n",
    "        closest = difflib.get_close_matches(input_statement.strip(), statements, n=1, cutoff=0.6)\n",
    "        \n",
    "        if closest:\n",
    "            matched_row = df[df['Statement'] == closest[0]]\n",
    "            link = matched_row.iloc[0]['Link']\n",
    "            if link in link_credibility:\n",
    "                credibility = link_credibility[link]['truth_ratio'] * 10\n",
    "                count = link_credibility[link]['count']\n",
    "                bias = \"⚠️ Biased Source\" if credibility < 4 and count > 3 else \"✅ Fair Source\"\n",
    "            else:\n",
    "                credibility = 5.0\n",
    "                bias = \"⚠️ Unknown Source\"\n",
    "        else:\n",
    "            link = \"🔍 No matching news link found\"\n",
    "            credibility = 5.0\n",
    "            bias = \"⚠️ Bias unknown (link not found)\"\n",
    "\n",
    "        # Output results\n",
    "        st.subheader(\"🔍 Analysis Result\")\n",
    "        st.write(f\"**Verdict:** {verdict}\")\n",
    "        st.write(f\"**Confidence:** {conf * 100:.2f}%\")\n",
    "        st.write(f\"**Reason:** {reason}\")\n",
    "        st.write(f\"**Source Link:** {link}\")\n",
    "        st.write(f\"**Source Credibility:** {credibility:.1f}/10\")\n",
    "        st.write(f\"**Bias Check:** {bias}\")\n"
   ]
  },
  {
   "cell_type": "code",
   "execution_count": null,
   "id": "d62cbefe-2fae-45b5-be19-1c682393e032",
   "metadata": {},
   "outputs": [],
   "source": [
    "!streamlit run truthshield_app.py"
   ]
  },
  {
   "cell_type": "code",
   "execution_count": null,
   "id": "3f140440-1a33-4a22-b479-efb5fb7c76ae",
   "metadata": {},
   "outputs": [],
   "source": []
  }
 ],
 "metadata": {
  "kernelspec": {
   "display_name": "Python 3 (ipykernel)",
   "language": "python",
   "name": "python3"
  },
  "language_info": {
   "codemirror_mode": {
    "name": "ipython",
    "version": 3
   },
   "file_extension": ".py",
   "mimetype": "text/x-python",
   "name": "python",
   "nbconvert_exporter": "python",
   "pygments_lexer": "ipython3",
   "version": "3.13.7"
  }
 },
 "nbformat": 4,
 "nbformat_minor": 5
}
